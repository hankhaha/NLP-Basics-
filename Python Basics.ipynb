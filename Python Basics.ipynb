{
 "cells": [
  {
   "cell_type": "markdown",
   "metadata": {},
   "source": [
    "### Python Tutorial for Beginners \n",
    "\n",
    "- Working with text \n",
    "- Working with Numeric Data "
   ]
  },
  {
   "cell_type": "markdown",
   "metadata": {},
   "source": [
    "#### Working with text data"
   ]
  },
  {
   "cell_type": "code",
   "execution_count": 4,
   "metadata": {},
   "outputs": [
    {
     "name": "stdout",
     "output_type": "stream",
     "text": [
      "nely Christmas\n",
      "Writing code all the holiday weekend\n",
      "\n"
     ]
    }
   ],
   "source": [
    "# print out string correctly over multiple lines\n",
    "\n",
    "multiple_line = \"\"\"Lonely Christmas\n",
    "Writing code all the holiday weekend\n",
    "\"\"\"\n",
    "\n",
    "print (multiple_line[2:])"
   ]
  },
  {
   "cell_type": "code",
   "execution_count": 5,
   "metadata": {},
   "outputs": [
    {
     "name": "stdout",
     "output_type": "stream",
     "text": [
      "LONELY CHRISTMAS\n",
      "WRITING CODE ALL THE HOLIDAY WEEKEND\n",
      "\n"
     ]
    }
   ],
   "source": [
    "# lower and upper function\n",
    "print (multiple_line.upper())"
   ]
  },
  {
   "cell_type": "code",
   "execution_count": 9,
   "metadata": {},
   "outputs": [
    {
     "name": "stdout",
     "output_type": "stream",
     "text": [
      "1\n",
      "25\n",
      "Lonely Christmas\n",
      "Writing growth all the holiday weekend\n",
      "\n"
     ]
    }
   ],
   "source": [
    "# count a certain number of characters in our string\n",
    "# we can use method\n",
    "\n",
    "print (multiple_line.count('code'))\n",
    "\n",
    "# we can use find\n",
    "# code starts at index 25 of our variable\n",
    "print (multiple_line.find('code'))\n",
    "\n",
    "# we want to replace with some string\n",
    "print (multiple_line.replace('code', 'growth'))\n"
   ]
  },
  {
   "cell_type": "code",
   "execution_count": 11,
   "metadata": {},
   "outputs": [
    {
     "name": "stdout",
     "output_type": "stream",
     "text": [
      "Welcome, Hank, join Apple\n",
      "Welcome, HANK, join Apple\n"
     ]
    }
   ],
   "source": [
    "# Placeholder are going to be curly brackets\n",
    "greeting = 'Welcome'\n",
    "name = 'Hank'\n",
    "say = 'Apple'\n",
    "message = '{}, {}, join {}'.format(greeting, name, say)\n",
    "# we have new format call f string, make formating string as simple as possible\n",
    "message_new_format = f'{greeting}, {name.upper()}, join {say}'\n",
    "print (message)\n",
    "print (message_new_format)"
   ]
  },
  {
   "cell_type": "markdown",
   "metadata": {},
   "source": [
    "#### Working with Numeric Data\n",
    "    Arithmetic Operators:\n",
    "    Addition:       3 + 2\n",
    "    Subtraction:    3 - 2\n",
    "    Multiplication: 3 * 2\n",
    "    Division:       3 / 2\n",
    "    Floor Division: 3 // 2\n",
    "    Exponent:       3 ** 2\n",
    "    Modulus:        3 % 2\n",
    "    \n",
    "    Comparisons:\n",
    "    Equal:            3 == 2\n",
    "    Not Equal:        3 != 2\n",
    "    Greater Than:     3 > 2\n",
    "    Less Than:        3 < 2\n",
    "    Greater or Equal: 3 >= 2\n",
    "    Less or Equal:    3 <= 2"
   ]
  },
  {
   "cell_type": "code",
   "execution_count": 13,
   "metadata": {},
   "outputs": [
    {
     "name": "stdout",
     "output_type": "stream",
     "text": [
      "<class 'int'>\n"
     ]
    }
   ],
   "source": [
    "# call type where we can see the datatype of a object\n",
    "\n",
    "num = 3\n",
    "print (type(num))"
   ]
  },
  {
   "cell_type": "code",
   "execution_count": 16,
   "metadata": {},
   "outputs": [
    {
     "name": "stdout",
     "output_type": "stream",
     "text": [
      "1.5\n",
      "9\n",
      "1\n"
     ]
    }
   ],
   "source": [
    "# in python 3 it will keep the decimal\n",
    "print (3/2)\n",
    "print (3**2)\n",
    "# give us the remainder after a division\n",
    "print (3%2)\n"
   ]
  },
  {
   "cell_type": "code",
   "execution_count": 24,
   "metadata": {},
   "outputs": [
    {
     "name": "stdout",
     "output_type": "stream",
     "text": [
      "11\n",
      "20\n",
      "3.6483\n"
     ]
    }
   ],
   "source": [
    "# increment a variable\n",
    "# say we want to increment the value by 1\n",
    "\n",
    "num = 10\n",
    "\n",
    "#num = num + 1\n",
    "\n",
    "num += 1\n",
    "\n",
    "num_10 = 2\n",
    "num_10 *= 10\n",
    "\n",
    "print (num)\n",
    "print (num_10)\n",
    "\n",
    "# round the value\n",
    "\n",
    "print (round(3.64829039, 4))"
   ]
  },
  {
   "cell_type": "code",
   "execution_count": 25,
   "metadata": {},
   "outputs": [
    {
     "name": "stdout",
     "output_type": "stream",
     "text": [
      "False\n"
     ]
    }
   ],
   "source": [
    "# comparison boolean condition\n",
    "num_1 = 3\n",
    "num_2 = 2\n",
    "\n",
    "print (num_1 == num_2)"
   ]
  },
  {
   "cell_type": "code",
   "execution_count": 27,
   "metadata": {},
   "outputs": [
    {
     "name": "stdout",
     "output_type": "stream",
     "text": [
      "100200\n",
      "300\n"
     ]
    }
   ],
   "source": [
    "# When we add string together, it just concatenate those together\n",
    "num_3 = '100'\n",
    "num_4 = '200'\n",
    "print (num_3 + num_4)\n",
    "\n",
    "num_3 = int('100')\n",
    "num_4 = int('200')\n",
    "print (num_3+num_4)"
   ]
  },
  {
   "cell_type": "markdown",
   "metadata": {},
   "source": [
    "#### Lists"
   ]
  },
  {
   "cell_type": "code",
   "execution_count": 47,
   "metadata": {},
   "outputs": [
    {
     "name": "stdout",
     "output_type": "stream",
     "text": [
      "China\n",
      "4\n",
      "['Taiwan', 'Japan']\n",
      "['Korea', 'China']\n"
     ]
    }
   ],
   "source": [
    "country = ['Taiwan', 'Japan', 'Korea', 'China']\n",
    "\n",
    "# return the last element\n",
    "print(country[-1])\n",
    "print(len(country))\n",
    "\n",
    "# we can access more than one value\n",
    "\n",
    "# Slicing\n",
    "print(country[0:2])\n",
    "# get all the way to the end\n",
    "print(country[2:])"
   ]
  },
  {
   "cell_type": "code",
   "execution_count": 48,
   "metadata": {},
   "outputs": [
    {
     "name": "stdout",
     "output_type": "stream",
     "text": [
      "['Canada', 'Taiwan', 'Japan', 'Korea', 'China', 'US', 'India', 'North Korea']\n"
     ]
    }
   ],
   "source": [
    "# we want to add elements\n",
    "country.append('US')\n",
    "\n",
    "# insert element with index\n",
    "country.insert(0,'Canada')\n",
    "\n",
    "# we can multiple valus with extend instead of inserting nested list in a another list\n",
    "country_asia = ['India', 'North Korea']\n",
    "\n",
    "country.extend(country_asia)\n",
    "\n",
    "print (country)"
   ]
  },
  {
   "cell_type": "code",
   "execution_count": 49,
   "metadata": {},
   "outputs": [
    {
     "name": "stdout",
     "output_type": "stream",
     "text": [
      "North Korea\n"
     ]
    }
   ],
   "source": [
    "# remove values\n",
    "country.remove('Canada')\n",
    "\n",
    "# remove the last one\n",
    "popped = country.pop()\n",
    "\n",
    "print(popped)\n"
   ]
  },
  {
   "cell_type": "code",
   "execution_count": 71,
   "metadata": {},
   "outputs": [
    {
     "name": "stdout",
     "output_type": "stream",
     "text": [
      "[92, 45, 32, 7, 5, 2, 1]\n",
      "['China', 'India', 'Japan', 'Korea', 'Taiwan', 'US']\n",
      "Min:1, Max:92, Sum:184\n"
     ]
    }
   ],
   "source": [
    "# the strings are sorted in alphabetical order\n",
    "country.sort()\n",
    "\n",
    "# the number are sorted in ascending order\n",
    "nums = [1, 2, 32, 5, 45, 7, 92]\n",
    "\n",
    "\n",
    "# the number are sorted in descending\n",
    "# A lot of time we don't want to alter the original list \n",
    "# Sorted function doesn't sort the list in place \n",
    "# it return the sorted version of the list\n",
    "nums_sorted = sorted(nums, reverse=True)\n",
    "\n",
    "print(nums_sorted)\n",
    "print(sorted(country))\n",
    "print('Min:{}, Max:{}, Sum:{}'.format(min(nums), max(nums), sum(nums)))"
   ]
  },
  {
   "cell_type": "code",
   "execution_count": 77,
   "metadata": {},
   "outputs": [
    {
     "name": "stdout",
     "output_type": "stream",
     "text": [
      "2\n",
      "China\n",
      "India\n",
      "Japan\n",
      "Korea\n",
      "Taiwan\n",
      "US\n",
      "2 China\n",
      "3 India\n",
      "4 Japan\n",
      "5 Korea\n",
      "6 Taiwan\n",
      "7 US\n"
     ]
    }
   ],
   "source": [
    "# check the index of certain element\n",
    "print (country.index('Japan'))\n",
    "\n",
    "# check if certain element in a list\n",
    "\n",
    "for item in country:\n",
    "    print(item)\n",
    "    \n",
    "# sometime it may be useful to also have the index of what value we are on \n",
    "# we can do it with enumerate, if we don't want to start at 0 we can add the index value in the second argument\n",
    "for index, item in enumerate(country, 2):\n",
    "    print(index, item)"
   ]
  },
  {
   "cell_type": "code",
   "execution_count": 81,
   "metadata": {},
   "outputs": [
    {
     "name": "stdout",
     "output_type": "stream",
     "text": [
      "China, India, Japan, Korea, Taiwan, US\n",
      "['China', 'India', 'Japan', 'Korea', 'Taiwan', 'US']\n"
     ]
    }
   ],
   "source": [
    "# if we want to turn our list of country into a string of comma seperated values, we need join\n",
    "country_string = ', '.join(country)\n",
    "print (country_string)\n",
    "\n",
    "# we can use split to revert it back to the original list\n",
    "country_split = country_string.split(', ')\n",
    "print (country_split)"
   ]
  },
  {
   "cell_type": "markdown",
   "metadata": {},
   "source": [
    "#### tuple \n",
    "The major difference between tuple and list is that we can't modify tuple (immutable)\n",
    "list is immutable."
   ]
  },
  {
   "cell_type": "code",
   "execution_count": 82,
   "metadata": {},
   "outputs": [
    {
     "name": "stdout",
     "output_type": "stream",
     "text": [
      "['History', 'Math', 'Physics', 'CompSci']\n",
      "['History', 'Math', 'Physics', 'CompSci']\n",
      "['Art', 'Math', 'Physics', 'CompSci']\n",
      "['Art', 'Math', 'Physics', 'CompSci']\n"
     ]
    }
   ],
   "source": [
    "# Mutable\n",
    "list_1 = ['History', 'Math', 'Physics', 'CompSci']\n",
    "list_2 = list_1\n",
    "\n",
    "print(list_1)\n",
    "print(list_2)\n",
    "\n",
    "list_1[0] = 'Art'\n",
    "\n",
    "print(list_1)\n",
    "print(list_2)"
   ]
  },
  {
   "cell_type": "code",
   "execution_count": 83,
   "metadata": {},
   "outputs": [
    {
     "ename": "NameError",
     "evalue": "name 'Immutable' is not defined",
     "output_type": "error",
     "traceback": [
      "\u001b[0;31m---------------------------------------------------------------------------\u001b[0m",
      "\u001b[0;31mNameError\u001b[0m                                 Traceback (most recent call last)",
      "\u001b[0;32m<ipython-input-83-547252a288df>\u001b[0m in \u001b[0;36m<module>\u001b[0;34m()\u001b[0m\n\u001b[0;32m----> 1\u001b[0;31m \u001b[0mImmutable\u001b[0m\u001b[0;34m\u001b[0m\u001b[0m\n\u001b[0m\u001b[1;32m      2\u001b[0m \u001b[0mtuple_1\u001b[0m \u001b[0;34m=\u001b[0m \u001b[0;34m(\u001b[0m\u001b[0;34m'History'\u001b[0m\u001b[0;34m,\u001b[0m \u001b[0;34m'Math'\u001b[0m\u001b[0;34m,\u001b[0m \u001b[0;34m'Physics'\u001b[0m\u001b[0;34m,\u001b[0m \u001b[0;34m'CompSci'\u001b[0m\u001b[0;34m)\u001b[0m\u001b[0;34m\u001b[0m\u001b[0m\n\u001b[1;32m      3\u001b[0m \u001b[0mtuple_2\u001b[0m \u001b[0;34m=\u001b[0m \u001b[0mtuple_1\u001b[0m\u001b[0;34m\u001b[0m\u001b[0m\n\u001b[1;32m      4\u001b[0m \u001b[0;34m\u001b[0m\u001b[0m\n\u001b[1;32m      5\u001b[0m \u001b[0mprint\u001b[0m\u001b[0;34m(\u001b[0m\u001b[0mtuple_1\u001b[0m\u001b[0;34m)\u001b[0m\u001b[0;34m\u001b[0m\u001b[0m\n",
      "\u001b[0;31mNameError\u001b[0m: name 'Immutable' is not defined"
     ]
    }
   ],
   "source": [
    "Immutable\n",
    "tuple_1 = ('History', 'Math', 'Physics', 'CompSci')\n",
    "tuple_2 = tuple_1\n",
    "\n",
    "print(tuple_1)\n",
    "print(tuple_2)\n",
    "\n",
    "tuple_1[0] = 'Art'\n",
    "\n",
    "print(tuple_1)\n",
    "print(tuple_2)\n",
    "\n",
    "# we will see a error becuase we can append or remove anything with tuple"
   ]
  },
  {
   "cell_type": "markdown",
   "metadata": {},
   "source": [
    "#### Sets\n",
    "Sets don't care about the order. They are used either to test whether a value is part of a set<br/>\n",
    "or also used a lot to remove duplicate value because sets throw away duplicates"
   ]
  },
  {
   "cell_type": "code",
   "execution_count": 84,
   "metadata": {},
   "outputs": [
    {
     "name": "stdout",
     "output_type": "stream",
     "text": [
      "{'CompSci', 'Math', 'History', 'Physics'}\n"
     ]
    }
   ],
   "source": [
    "# Sets\n",
    "cs_courses = {'History', 'Math', 'Physics', 'CompSci'}\n",
    "print(cs_courses)\n"
   ]
  },
  {
   "cell_type": "code",
   "execution_count": 86,
   "metadata": {},
   "outputs": [
    {
     "name": "stdout",
     "output_type": "stream",
     "text": [
      "{'Math', 'History'}\n",
      "{'CompSci', 'Physics'}\n",
      "{'CompSci', 'Art', 'History', 'Design', 'Math', 'Physics'}\n"
     ]
    }
   ],
   "source": [
    "# I wanted to see what courses these sets had in common, we can use intersaction \n",
    "art_courses = {'History', 'Math', 'Art', 'Design'}\n",
    "\n",
    "print(cs_courses.intersection(art_courses))\n",
    "\n",
    "# what's the difference\n",
    "print(cs_courses.difference(art_courses))\n",
    "\n",
    "# union\n",
    "print(cs_courses.union(art_courses))"
   ]
  },
  {
   "cell_type": "code",
   "execution_count": 87,
   "metadata": {},
   "outputs": [
    {
     "name": "stdout",
     "output_type": "stream",
     "text": [
      "['Design', 'Math', 'Art', 'History']\n"
     ]
    }
   ],
   "source": [
    "art_courses_duplicate = ['History', 'Math', 'Art', 'Design', 'Art', 'Math']\n",
    "art_courses_clean = list(set(art_courses))\n",
    "print(art_courses_clean)"
   ]
  },
  {
   "cell_type": "code",
   "execution_count": null,
   "metadata": {},
   "outputs": [],
   "source": [
    "# Empty Lists\n",
    "empty_list = []\n",
    "empty_list = list()\n",
    "\n",
    "# Empty Tuples\n",
    "empty_tuple = ()\n",
    "empty_tuple = tuple()\n",
    "\n",
    "# Empty Sets\n",
    "empty_set = {} # This isn't right! It's a dict\n",
    "empty_set = set()"
   ]
  },
  {
   "cell_type": "code",
   "execution_count": null,
   "metadata": {},
   "outputs": [],
   "source": []
  },
  {
   "cell_type": "code",
   "execution_count": null,
   "metadata": {},
   "outputs": [],
   "source": []
  },
  {
   "cell_type": "code",
   "execution_count": null,
   "metadata": {},
   "outputs": [],
   "source": []
  },
  {
   "cell_type": "code",
   "execution_count": null,
   "metadata": {},
   "outputs": [],
   "source": []
  },
  {
   "cell_type": "code",
   "execution_count": null,
   "metadata": {},
   "outputs": [],
   "source": []
  },
  {
   "cell_type": "code",
   "execution_count": null,
   "metadata": {},
   "outputs": [],
   "source": []
  },
  {
   "cell_type": "code",
   "execution_count": null,
   "metadata": {},
   "outputs": [],
   "source": []
  },
  {
   "cell_type": "code",
   "execution_count": null,
   "metadata": {},
   "outputs": [],
   "source": []
  },
  {
   "cell_type": "code",
   "execution_count": null,
   "metadata": {},
   "outputs": [],
   "source": []
  },
  {
   "cell_type": "code",
   "execution_count": null,
   "metadata": {},
   "outputs": [],
   "source": []
  },
  {
   "cell_type": "code",
   "execution_count": null,
   "metadata": {},
   "outputs": [],
   "source": []
  },
  {
   "cell_type": "code",
   "execution_count": null,
   "metadata": {},
   "outputs": [],
   "source": []
  },
  {
   "cell_type": "code",
   "execution_count": null,
   "metadata": {},
   "outputs": [],
   "source": []
  },
  {
   "cell_type": "code",
   "execution_count": null,
   "metadata": {},
   "outputs": [],
   "source": []
  },
  {
   "cell_type": "code",
   "execution_count": null,
   "metadata": {},
   "outputs": [],
   "source": []
  },
  {
   "cell_type": "code",
   "execution_count": null,
   "metadata": {},
   "outputs": [],
   "source": []
  },
  {
   "cell_type": "code",
   "execution_count": null,
   "metadata": {},
   "outputs": [],
   "source": []
  },
  {
   "cell_type": "code",
   "execution_count": null,
   "metadata": {},
   "outputs": [],
   "source": []
  },
  {
   "cell_type": "code",
   "execution_count": null,
   "metadata": {},
   "outputs": [],
   "source": []
  },
  {
   "cell_type": "code",
   "execution_count": null,
   "metadata": {},
   "outputs": [],
   "source": []
  },
  {
   "cell_type": "code",
   "execution_count": null,
   "metadata": {},
   "outputs": [],
   "source": []
  },
  {
   "cell_type": "code",
   "execution_count": null,
   "metadata": {},
   "outputs": [],
   "source": []
  },
  {
   "cell_type": "code",
   "execution_count": null,
   "metadata": {},
   "outputs": [],
   "source": []
  },
  {
   "cell_type": "code",
   "execution_count": null,
   "metadata": {},
   "outputs": [],
   "source": []
  },
  {
   "cell_type": "code",
   "execution_count": null,
   "metadata": {},
   "outputs": [],
   "source": []
  },
  {
   "cell_type": "code",
   "execution_count": null,
   "metadata": {},
   "outputs": [],
   "source": []
  },
  {
   "cell_type": "code",
   "execution_count": null,
   "metadata": {},
   "outputs": [],
   "source": []
  },
  {
   "cell_type": "code",
   "execution_count": null,
   "metadata": {},
   "outputs": [],
   "source": []
  },
  {
   "cell_type": "code",
   "execution_count": null,
   "metadata": {},
   "outputs": [],
   "source": []
  },
  {
   "cell_type": "code",
   "execution_count": null,
   "metadata": {},
   "outputs": [],
   "source": []
  },
  {
   "cell_type": "code",
   "execution_count": null,
   "metadata": {},
   "outputs": [],
   "source": []
  },
  {
   "cell_type": "code",
   "execution_count": null,
   "metadata": {},
   "outputs": [],
   "source": []
  },
  {
   "cell_type": "code",
   "execution_count": null,
   "metadata": {},
   "outputs": [],
   "source": []
  },
  {
   "cell_type": "code",
   "execution_count": null,
   "metadata": {},
   "outputs": [],
   "source": []
  },
  {
   "cell_type": "code",
   "execution_count": null,
   "metadata": {},
   "outputs": [],
   "source": []
  },
  {
   "cell_type": "code",
   "execution_count": null,
   "metadata": {},
   "outputs": [],
   "source": []
  },
  {
   "cell_type": "code",
   "execution_count": null,
   "metadata": {},
   "outputs": [],
   "source": []
  },
  {
   "cell_type": "code",
   "execution_count": null,
   "metadata": {},
   "outputs": [],
   "source": []
  },
  {
   "cell_type": "code",
   "execution_count": null,
   "metadata": {},
   "outputs": [],
   "source": []
  },
  {
   "cell_type": "code",
   "execution_count": null,
   "metadata": {},
   "outputs": [],
   "source": []
  },
  {
   "cell_type": "code",
   "execution_count": null,
   "metadata": {},
   "outputs": [],
   "source": []
  },
  {
   "cell_type": "code",
   "execution_count": null,
   "metadata": {},
   "outputs": [],
   "source": []
  },
  {
   "cell_type": "code",
   "execution_count": null,
   "metadata": {},
   "outputs": [],
   "source": []
  },
  {
   "cell_type": "code",
   "execution_count": null,
   "metadata": {},
   "outputs": [],
   "source": []
  },
  {
   "cell_type": "code",
   "execution_count": null,
   "metadata": {},
   "outputs": [],
   "source": []
  },
  {
   "cell_type": "code",
   "execution_count": null,
   "metadata": {},
   "outputs": [],
   "source": []
  },
  {
   "cell_type": "code",
   "execution_count": null,
   "metadata": {},
   "outputs": [],
   "source": []
  },
  {
   "cell_type": "code",
   "execution_count": null,
   "metadata": {},
   "outputs": [],
   "source": []
  },
  {
   "cell_type": "code",
   "execution_count": null,
   "metadata": {},
   "outputs": [],
   "source": []
  },
  {
   "cell_type": "code",
   "execution_count": null,
   "metadata": {},
   "outputs": [],
   "source": []
  },
  {
   "cell_type": "code",
   "execution_count": null,
   "metadata": {},
   "outputs": [],
   "source": []
  },
  {
   "cell_type": "code",
   "execution_count": null,
   "metadata": {},
   "outputs": [],
   "source": []
  },
  {
   "cell_type": "code",
   "execution_count": null,
   "metadata": {},
   "outputs": [],
   "source": []
  }
 ],
 "metadata": {
  "kernelspec": {
   "display_name": "Python 3",
   "language": "python",
   "name": "python3"
  },
  "language_info": {
   "codemirror_mode": {
    "name": "ipython",
    "version": 3
   },
   "file_extension": ".py",
   "mimetype": "text/x-python",
   "name": "python",
   "nbconvert_exporter": "python",
   "pygments_lexer": "ipython3",
   "version": "3.6.5"
  }
 },
 "nbformat": 4,
 "nbformat_minor": 2
}
