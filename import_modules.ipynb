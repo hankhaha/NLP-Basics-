{
 "cells": [
  {
   "cell_type": "code",
   "execution_count": 1,
   "metadata": {},
   "outputs": [
    {
     "name": "stdout",
     "output_type": "stream",
     "text": [
      "Imported my_module...\n"
     ]
    }
   ],
   "source": [
    "import my_module as mm"
   ]
  },
  {
   "cell_type": "code",
   "execution_count": 2,
   "metadata": {},
   "outputs": [],
   "source": [
    "courses = ['History', 'Math', 'Physics', 'CompSci']"
   ]
  },
  {
   "cell_type": "code",
   "execution_count": 3,
   "metadata": {},
   "outputs": [
    {
     "name": "stdout",
     "output_type": "stream",
     "text": [
      "1\n"
     ]
    }
   ],
   "source": [
    "index = mm.find_index(courses, 'Math')\n",
    "print (index)"
   ]
  },
  {
   "cell_type": "code",
   "execution_count": 4,
   "metadata": {},
   "outputs": [],
   "source": [
    "# if we just want to import the function itself\n",
    "from my_module import find_index,"
   ]
  },
  {
   "cell_type": "code",
   "execution_count": 6,
   "metadata": {},
   "outputs": [
    {
     "name": "stdout",
     "output_type": "stream",
     "text": [
      "3\n"
     ]
    }
   ],
   "source": [
    "index_1 = find_index(courses, 'CompSci')\n",
    "print(index_1)"
   ]
  },
  {
   "cell_type": "code",
   "execution_count": 10,
   "metadata": {},
   "outputs": [],
   "source": [
    "import sys"
   ]
  },
  {
   "cell_type": "code",
   "execution_count": 11,
   "metadata": {},
   "outputs": [
    {
     "name": "stdout",
     "output_type": "stream",
     "text": [
      "['', '/Users/clo/anaconda3/lib/python36.zip', '/Users/clo/anaconda3/lib/python3.6', '/Users/clo/anaconda3/lib/python3.6/lib-dynload', '/Users/clo/anaconda3/lib/python3.6/site-packages', '/Users/clo/anaconda3/lib/python3.6/site-packages/aeosa', '/Users/clo/anaconda3/lib/python3.6/site-packages/IPython/extensions', '/Users/clo/.ipython']\n"
     ]
    }
   ],
   "source": [
    "print(sys.path)"
   ]
  },
  {
   "cell_type": "markdown",
   "metadata": {},
   "source": [
    "If the module file is not in the same working directory, an error would pop up. <br/>\n",
    "we can edit the message at terminal \n",
    "\n",
    "```sh\n",
    "nano /Users/clo/.bash_profile \n",
    "```\n",
    "\n",
    "```sh\n",
    "\\lias python='/Library/Frameworks/Python.framework/Versions/3.7/bin/python3.7'\n",
    "\n",
    "# added by Anaconda3 5.2.0 installer\n",
    "export PATH=\"/Users/clo/anaconda3/bin:$PATH\"\n",
    "\n",
    "# Setting PATH for Python 3.7\n",
    "# The original version is saved in .bash_profile.pysave\n",
    "PATH=\"/Library/Frameworks/Python.framework/Versions/3.7/bin:${PATH}\"\n",
    "export PATH\n",
    "```"
   ]
  },
  {
   "cell_type": "code",
   "execution_count": null,
   "metadata": {},
   "outputs": [],
   "source": []
  },
  {
   "cell_type": "code",
   "execution_count": null,
   "metadata": {},
   "outputs": [],
   "source": []
  },
  {
   "cell_type": "code",
   "execution_count": null,
   "metadata": {},
   "outputs": [],
   "source": []
  }
 ],
 "metadata": {
  "kernelspec": {
   "display_name": "Python 3",
   "language": "python",
   "name": "python3"
  },
  "language_info": {
   "codemirror_mode": {
    "name": "ipython",
    "version": 3
   },
   "file_extension": ".py",
   "mimetype": "text/x-python",
   "name": "python",
   "nbconvert_exporter": "python",
   "pygments_lexer": "ipython3",
   "version": "3.6.5"
  }
 },
 "nbformat": 4,
 "nbformat_minor": 2
}
