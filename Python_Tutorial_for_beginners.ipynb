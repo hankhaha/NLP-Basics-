{
 "cells": [
  {
   "cell_type": "markdown",
   "metadata": {},
   "source": [
    "### Python Tutorial for Beginners \n",
    "\n",
    "- Working with text \n",
    "- Working with Numeric Data\n",
    "- List, tuple and sets \n",
    "- Dictionary \n"
   ]
  },
  {
   "cell_type": "markdown",
   "metadata": {},
   "source": [
    "#### Working with text data"
   ]
  },
  {
   "cell_type": "code",
   "execution_count": 4,
   "metadata": {},
   "outputs": [
    {
     "name": "stdout",
     "output_type": "stream",
     "text": [
      "nely Christmas\n",
      "Writing code all the holiday weekend\n",
      "\n"
     ]
    }
   ],
   "source": [
    "# print out string correctly over multiple lines\n",
    "\n",
    "multiple_line = \"\"\"Lonely Christmas\n",
    "Writing code all the holiday weekend\n",
    "\"\"\"\n",
    "\n",
    "print (multiple_line[2:])"
   ]
  },
  {
   "cell_type": "code",
   "execution_count": 5,
   "metadata": {},
   "outputs": [
    {
     "name": "stdout",
     "output_type": "stream",
     "text": [
      "LONELY CHRISTMAS\n",
      "WRITING CODE ALL THE HOLIDAY WEEKEND\n",
      "\n"
     ]
    }
   ],
   "source": [
    "# lower and upper function\n",
    "print (multiple_line.upper())"
   ]
  },
  {
   "cell_type": "code",
   "execution_count": 9,
   "metadata": {},
   "outputs": [
    {
     "name": "stdout",
     "output_type": "stream",
     "text": [
      "1\n",
      "25\n",
      "Lonely Christmas\n",
      "Writing growth all the holiday weekend\n",
      "\n"
     ]
    }
   ],
   "source": [
    "# count a certain number of characters in our string\n",
    "# we can use method\n",
    "\n",
    "print (multiple_line.count('code'))\n",
    "\n",
    "# we can use find\n",
    "# code starts at index 25 of our variable\n",
    "print (multiple_line.find('code'))\n",
    "\n",
    "# we want to replace with some string\n",
    "print (multiple_line.replace('code', 'growth'))\n"
   ]
  },
  {
   "cell_type": "code",
   "execution_count": 11,
   "metadata": {},
   "outputs": [
    {
     "name": "stdout",
     "output_type": "stream",
     "text": [
      "Welcome, Hank, join Apple\n",
      "Welcome, HANK, join Apple\n"
     ]
    }
   ],
   "source": [
    "# Placeholder are going to be curly brackets\n",
    "greeting = 'Welcome'\n",
    "name = 'Hank'\n",
    "say = 'Apple'\n",
    "message = '{}, {}, join {}'.format(greeting, name, say)\n",
    "# we have new format call f string, make formating string as simple as possible\n",
    "message_new_format = f'{greeting}, {name.upper()}, join {say}'\n",
    "print (message)\n",
    "print (message_new_format)"
   ]
  },
  {
   "cell_type": "markdown",
   "metadata": {},
   "source": [
    "#### Working with Numeric Data\n",
    "    Arithmetic Operators:\n",
    "    Addition:       3 + 2\n",
    "    Subtraction:    3 - 2\n",
    "    Multiplication: 3 * 2\n",
    "    Division:       3 / 2\n",
    "    Floor Division: 3 // 2\n",
    "    Exponent:       3 ** 2\n",
    "    Modulus:        3 % 2\n",
    "    \n",
    "    Comparisons:\n",
    "    Equal:            3 == 2\n",
    "    Not Equal:        3 != 2\n",
    "    Greater Than:     3 > 2\n",
    "    Less Than:        3 < 2\n",
    "    Greater or Equal: 3 >= 2\n",
    "    Less or Equal:    3 <= 2"
   ]
  },
  {
   "cell_type": "code",
   "execution_count": 13,
   "metadata": {},
   "outputs": [
    {
     "name": "stdout",
     "output_type": "stream",
     "text": [
      "<class 'int'>\n"
     ]
    }
   ],
   "source": [
    "# call type where we can see the datatype of a object\n",
    "\n",
    "num = 3\n",
    "print (type(num))"
   ]
  },
  {
   "cell_type": "code",
   "execution_count": 16,
   "metadata": {},
   "outputs": [
    {
     "name": "stdout",
     "output_type": "stream",
     "text": [
      "1.5\n",
      "9\n",
      "1\n"
     ]
    }
   ],
   "source": [
    "# in python 3 it will keep the decimal\n",
    "print (3/2)\n",
    "print (3**2)\n",
    "# give us the remainder after a division\n",
    "print (3%2)\n"
   ]
  },
  {
   "cell_type": "code",
   "execution_count": 24,
   "metadata": {},
   "outputs": [
    {
     "name": "stdout",
     "output_type": "stream",
     "text": [
      "11\n",
      "20\n",
      "3.6483\n"
     ]
    }
   ],
   "source": [
    "# increment a variable\n",
    "# say we want to increment the value by 1\n",
    "\n",
    "num = 10\n",
    "\n",
    "#num = num + 1\n",
    "\n",
    "num += 1\n",
    "\n",
    "num_10 = 2\n",
    "num_10 *= 10\n",
    "\n",
    "print (num)\n",
    "print (num_10)\n",
    "\n",
    "# round the value\n",
    "\n",
    "print (round(3.64829039, 4))"
   ]
  },
  {
   "cell_type": "code",
   "execution_count": 25,
   "metadata": {},
   "outputs": [
    {
     "name": "stdout",
     "output_type": "stream",
     "text": [
      "False\n"
     ]
    }
   ],
   "source": [
    "# comparison boolean condition\n",
    "num_1 = 3\n",
    "num_2 = 2\n",
    "\n",
    "print (num_1 == num_2)"
   ]
  },
  {
   "cell_type": "code",
   "execution_count": 27,
   "metadata": {},
   "outputs": [
    {
     "name": "stdout",
     "output_type": "stream",
     "text": [
      "100200\n",
      "300\n"
     ]
    }
   ],
   "source": [
    "# When we add string together, it just concatenate those together\n",
    "num_3 = '100'\n",
    "num_4 = '200'\n",
    "print (num_3 + num_4)\n",
    "\n",
    "num_3 = int('100')\n",
    "num_4 = int('200')\n",
    "print (num_3+num_4)"
   ]
  },
  {
   "cell_type": "markdown",
   "metadata": {},
   "source": [
    "#### Lists"
   ]
  },
  {
   "cell_type": "code",
   "execution_count": 47,
   "metadata": {},
   "outputs": [
    {
     "name": "stdout",
     "output_type": "stream",
     "text": [
      "China\n",
      "4\n",
      "['Taiwan', 'Japan']\n",
      "['Korea', 'China']\n"
     ]
    }
   ],
   "source": [
    "country = ['Taiwan', 'Japan', 'Korea', 'China']\n",
    "\n",
    "# return the last element\n",
    "print(country[-1])\n",
    "print(len(country))\n",
    "\n",
    "# we can access more than one value\n",
    "\n",
    "# Slicing\n",
    "print(country[0:2])\n",
    "# get all the way to the end\n",
    "print(country[2:])"
   ]
  },
  {
   "cell_type": "code",
   "execution_count": 48,
   "metadata": {},
   "outputs": [
    {
     "name": "stdout",
     "output_type": "stream",
     "text": [
      "['Canada', 'Taiwan', 'Japan', 'Korea', 'China', 'US', 'India', 'North Korea']\n"
     ]
    }
   ],
   "source": [
    "# we want to add elements\n",
    "country.append('US')\n",
    "\n",
    "# insert element with index\n",
    "country.insert(0,'Canada')\n",
    "\n",
    "# we can multiple valus with extend instead of inserting nested list in a another list\n",
    "country_asia = ['India', 'North Korea']\n",
    "\n",
    "country.extend(country_asia)\n",
    "\n",
    "print (country)"
   ]
  },
  {
   "cell_type": "code",
   "execution_count": 49,
   "metadata": {},
   "outputs": [
    {
     "name": "stdout",
     "output_type": "stream",
     "text": [
      "North Korea\n"
     ]
    }
   ],
   "source": [
    "# remove values\n",
    "country.remove('Canada')\n",
    "\n",
    "# remove the last one\n",
    "popped = country.pop()\n",
    "\n",
    "print(popped)\n"
   ]
  },
  {
   "cell_type": "code",
   "execution_count": 71,
   "metadata": {},
   "outputs": [
    {
     "name": "stdout",
     "output_type": "stream",
     "text": [
      "[92, 45, 32, 7, 5, 2, 1]\n",
      "['China', 'India', 'Japan', 'Korea', 'Taiwan', 'US']\n",
      "Min:1, Max:92, Sum:184\n"
     ]
    }
   ],
   "source": [
    "# the strings are sorted in alphabetical order\n",
    "country.sort()\n",
    "\n",
    "# the number are sorted in ascending order\n",
    "nums = [1, 2, 32, 5, 45, 7, 92]\n",
    "\n",
    "\n",
    "# the number are sorted in descending\n",
    "# A lot of time we don't want to alter the original list \n",
    "# Sorted function doesn't sort the list in place \n",
    "# it return the sorted version of the list\n",
    "nums_sorted = sorted(nums, reverse=True)\n",
    "\n",
    "print(nums_sorted)\n",
    "print(sorted(country))\n",
    "print('Min:{}, Max:{}, Sum:{}'.format(min(nums), max(nums), sum(nums)))"
   ]
  },
  {
   "cell_type": "code",
   "execution_count": 77,
   "metadata": {},
   "outputs": [
    {
     "name": "stdout",
     "output_type": "stream",
     "text": [
      "2\n",
      "China\n",
      "India\n",
      "Japan\n",
      "Korea\n",
      "Taiwan\n",
      "US\n",
      "2 China\n",
      "3 India\n",
      "4 Japan\n",
      "5 Korea\n",
      "6 Taiwan\n",
      "7 US\n"
     ]
    }
   ],
   "source": [
    "# check the index of certain element\n",
    "print (country.index('Japan'))\n",
    "\n",
    "# check if certain element in a list\n",
    "\n",
    "for item in country:\n",
    "    print(item)\n",
    "    \n",
    "# sometime it may be useful to also have the index of what value we are on \n",
    "# we can do it with enumerate, if we don't want to start at 0 we can add the index value in the second argument\n",
    "for index, item in enumerate(country, 2):\n",
    "    print(index, item)"
   ]
  },
  {
   "cell_type": "code",
   "execution_count": 81,
   "metadata": {},
   "outputs": [
    {
     "name": "stdout",
     "output_type": "stream",
     "text": [
      "China, India, Japan, Korea, Taiwan, US\n",
      "['China', 'India', 'Japan', 'Korea', 'Taiwan', 'US']\n"
     ]
    }
   ],
   "source": [
    "# if we want to turn our list of country into a string of comma seperated values, we need join\n",
    "country_string = ', '.join(country)\n",
    "print (country_string)\n",
    "\n",
    "# we can use split to revert it back to the original list\n",
    "country_split = country_string.split(', ')\n",
    "print (country_split)"
   ]
  },
  {
   "cell_type": "markdown",
   "metadata": {},
   "source": [
    "#### tuple \n",
    "The major difference between tuple and list is that we can't modify tuple (immutable)\n",
    "list is immutable."
   ]
  },
  {
   "cell_type": "code",
   "execution_count": 82,
   "metadata": {},
   "outputs": [
    {
     "name": "stdout",
     "output_type": "stream",
     "text": [
      "['History', 'Math', 'Physics', 'CompSci']\n",
      "['History', 'Math', 'Physics', 'CompSci']\n",
      "['Art', 'Math', 'Physics', 'CompSci']\n",
      "['Art', 'Math', 'Physics', 'CompSci']\n"
     ]
    }
   ],
   "source": [
    "# Mutable\n",
    "list_1 = ['History', 'Math', 'Physics', 'CompSci']\n",
    "list_2 = list_1\n",
    "\n",
    "print(list_1)\n",
    "print(list_2)\n",
    "\n",
    "list_1[0] = 'Art'\n",
    "\n",
    "print(list_1)\n",
    "print(list_2)"
   ]
  },
  {
   "cell_type": "code",
   "execution_count": 83,
   "metadata": {},
   "outputs": [
    {
     "ename": "NameError",
     "evalue": "name 'Immutable' is not defined",
     "output_type": "error",
     "traceback": [
      "\u001b[0;31m---------------------------------------------------------------------------\u001b[0m",
      "\u001b[0;31mNameError\u001b[0m                                 Traceback (most recent call last)",
      "\u001b[0;32m<ipython-input-83-547252a288df>\u001b[0m in \u001b[0;36m<module>\u001b[0;34m()\u001b[0m\n\u001b[0;32m----> 1\u001b[0;31m \u001b[0mImmutable\u001b[0m\u001b[0;34m\u001b[0m\u001b[0m\n\u001b[0m\u001b[1;32m      2\u001b[0m \u001b[0mtuple_1\u001b[0m \u001b[0;34m=\u001b[0m \u001b[0;34m(\u001b[0m\u001b[0;34m'History'\u001b[0m\u001b[0;34m,\u001b[0m \u001b[0;34m'Math'\u001b[0m\u001b[0;34m,\u001b[0m \u001b[0;34m'Physics'\u001b[0m\u001b[0;34m,\u001b[0m \u001b[0;34m'CompSci'\u001b[0m\u001b[0;34m)\u001b[0m\u001b[0;34m\u001b[0m\u001b[0m\n\u001b[1;32m      3\u001b[0m \u001b[0mtuple_2\u001b[0m \u001b[0;34m=\u001b[0m \u001b[0mtuple_1\u001b[0m\u001b[0;34m\u001b[0m\u001b[0m\n\u001b[1;32m      4\u001b[0m \u001b[0;34m\u001b[0m\u001b[0m\n\u001b[1;32m      5\u001b[0m \u001b[0mprint\u001b[0m\u001b[0;34m(\u001b[0m\u001b[0mtuple_1\u001b[0m\u001b[0;34m)\u001b[0m\u001b[0;34m\u001b[0m\u001b[0m\n",
      "\u001b[0;31mNameError\u001b[0m: name 'Immutable' is not defined"
     ]
    }
   ],
   "source": [
    "Immutable\n",
    "tuple_1 = ('History', 'Math', 'Physics', 'CompSci')\n",
    "tuple_2 = tuple_1\n",
    "\n",
    "print(tuple_1)\n",
    "print(tuple_2)\n",
    "\n",
    "tuple_1[0] = 'Art'\n",
    "\n",
    "print(tuple_1)\n",
    "print(tuple_2)\n",
    "\n",
    "# we will see a error becuase we can append or remove anything with tuple"
   ]
  },
  {
   "cell_type": "markdown",
   "metadata": {},
   "source": [
    "#### Sets\n",
    "Sets don't care about the order. They are used either to test whether a value is part of a set<br/>\n",
    "or also used a lot to remove duplicate value because sets throw away duplicates"
   ]
  },
  {
   "cell_type": "code",
   "execution_count": null,
   "metadata": {},
   "outputs": [],
   "source": []
  },
  {
   "cell_type": "code",
   "execution_count": 84,
   "metadata": {},
   "outputs": [
    {
     "name": "stdout",
     "output_type": "stream",
     "text": [
      "{'CompSci', 'Math', 'History', 'Physics'}\n"
     ]
    }
   ],
   "source": [
    "# Sets\n",
    "cs_courses = {'History', 'Math', 'Physics', 'CompSci'}\n",
    "print(cs_courses)\n"
   ]
  },
  {
   "cell_type": "code",
   "execution_count": 86,
   "metadata": {},
   "outputs": [
    {
     "name": "stdout",
     "output_type": "stream",
     "text": [
      "{'Math', 'History'}\n",
      "{'CompSci', 'Physics'}\n",
      "{'CompSci', 'Art', 'History', 'Design', 'Math', 'Physics'}\n"
     ]
    }
   ],
   "source": [
    "# I wanted to see what courses these sets had in common, we can use intersaction \n",
    "art_courses = {'History', 'Math', 'Art', 'Design'}\n",
    "\n",
    "print(cs_courses.intersection(art_courses))\n",
    "\n",
    "# what's the difference\n",
    "print(cs_courses.difference(art_courses))\n",
    "\n",
    "# union\n",
    "print(cs_courses.union(art_courses))"
   ]
  },
  {
   "cell_type": "code",
   "execution_count": 87,
   "metadata": {},
   "outputs": [
    {
     "name": "stdout",
     "output_type": "stream",
     "text": [
      "['Design', 'Math', 'Art', 'History']\n"
     ]
    }
   ],
   "source": [
    "art_courses_duplicate = ['History', 'Math', 'Art', 'Design', 'Art', 'Math']\n",
    "art_courses_clean = list(set(art_courses))\n",
    "print(art_courses_clean)"
   ]
  },
  {
   "cell_type": "code",
   "execution_count": null,
   "metadata": {},
   "outputs": [],
   "source": [
    "# Empty Lists\n",
    "empty_list = []\n",
    "empty_list = list()\n",
    "\n",
    "# Empty Tuples\n",
    "empty_tuple = ()\n",
    "empty_tuple = tuple()\n",
    "\n",
    "# Empty Sets\n",
    "empty_set = {} # This isn't right! It's a dict\n",
    "empty_set = set()"
   ]
  },
  {
   "cell_type": "markdown",
   "metadata": {},
   "source": [
    "#### Dictionary "
   ]
  },
  {
   "cell_type": "code",
   "execution_count": 13,
   "metadata": {},
   "outputs": [
    {
     "name": "stdout",
     "output_type": "stream",
     "text": [
      "John\n"
     ]
    }
   ],
   "source": [
    "student = {'name':'John', 'age':25, 'course':['math', 'compSci']}\n",
    "print (student['name'])"
   ]
  },
  {
   "cell_type": "code",
   "execution_count": 3,
   "metadata": {},
   "outputs": [
    {
     "name": "stdout",
     "output_type": "stream",
     "text": [
      "John\n"
     ]
    }
   ],
   "source": [
    "# we can use the get to access the value\n",
    "print (student.get('name'))"
   ]
  },
  {
   "cell_type": "code",
   "execution_count": 5,
   "metadata": {},
   "outputs": [
    {
     "name": "stdout",
     "output_type": "stream",
     "text": [
      "{'name': 'Jane', 'age': 26, 'course': ['math', 'compSci'], 'phone': '555-5555'}\n"
     ]
    }
   ],
   "source": [
    "# add new entry to the dictionary\n",
    "student['phone'] = '555-5555'\n",
    "\n",
    "# update() is useful when we want to update multiple values at a time \n",
    "student.update({'name':'Jane','age':26, 'phone':'555-5555'})\n",
    "print (student)"
   ]
  },
  {
   "cell_type": "code",
   "execution_count": 11,
   "metadata": {},
   "outputs": [
    {
     "name": "stdout",
     "output_type": "stream",
     "text": [
      "{'name': 'John', 'course': ['math', 'compSci']}\n"
     ]
    }
   ],
   "source": [
    "# remove a key in a dictionary\n",
    "\n",
    "del student['age']\n",
    "print (student)"
   ]
  },
  {
   "cell_type": "code",
   "execution_count": 8,
   "metadata": {},
   "outputs": [
    {
     "name": "stdout",
     "output_type": "stream",
     "text": [
      "555-5555\n"
     ]
    }
   ],
   "source": [
    "age = student.pop('phone')\n",
    "print (age)"
   ]
  },
  {
   "cell_type": "code",
   "execution_count": 16,
   "metadata": {},
   "outputs": [
    {
     "name": "stdout",
     "output_type": "stream",
     "text": [
      "3\n",
      "dict_keys(['name', 'age', 'course'])\n",
      "dict_values(['John', 25, ['math', 'compSci']])\n",
      "dict_items([('name', 'John'), ('age', 25), ('course', ['math', 'compSci'])])\n"
     ]
    }
   ],
   "source": [
    "# if we want to see how many keys we have in our dictionary\n",
    "print(len(student))\n",
    "# see keys\n",
    "print(student.keys())\n",
    "# see values\n",
    "print(student.values())\n",
    "# see keys and values pair\n",
    "print(student.items())"
   ]
  },
  {
   "cell_type": "code",
   "execution_count": 17,
   "metadata": {},
   "outputs": [
    {
     "name": "stdout",
     "output_type": "stream",
     "text": [
      "name John\n",
      "age 25\n",
      "course ['math', 'compSci']\n"
     ]
    }
   ],
   "source": [
    "for key, value in student.items():\n",
    "    print(key, value)"
   ]
  },
  {
   "cell_type": "markdown",
   "metadata": {},
   "source": [
    "#### Conditional and Booleans \n",
    "\n",
    "Comparisons:\n",
    "Equal:            ==<br/>\n",
    "Not Equal:        !=<br/>\n",
    "Greater Than:     ><br/>\n",
    "Less Than:        <<br/>\n",
    "Greater or Equal: >=<br/>\n",
    "Less or Equal:    <=<br/>\n",
    "Object Identity:  is"
   ]
  },
  {
   "cell_type": "code",
   "execution_count": 22,
   "metadata": {},
   "outputs": [
    {
     "name": "stdout",
     "output_type": "stream",
     "text": [
      "Language is Java\n"
     ]
    }
   ],
   "source": [
    "language = 'Java'\n",
    "\n",
    "if language == 'python':\n",
    "    print ('Language is Python')\n",
    "elif language == 'Java':\n",
    "    print ('Language is Java')\n",
    "elif language == 'JavaScript':\n",
    "    print ('Language is JavaScript')\n",
    "else:\n",
    "    print ('No match')"
   ]
  },
  {
   "cell_type": "code",
   "execution_count": 23,
   "metadata": {},
   "outputs": [
    {
     "name": "stdout",
     "output_type": "stream",
     "text": [
      "Admin Page\n"
     ]
    }
   ],
   "source": [
    "user = 'Admin'\n",
    "logged_in = True\n",
    "\n",
    "if user == 'Admin' and logged_in:\n",
    "    print('Admin Page')\n",
    "else:\n",
    "    print('Bad Creds')"
   ]
  },
  {
   "cell_type": "code",
   "execution_count": 25,
   "metadata": {},
   "outputs": [
    {
     "name": "stdout",
     "output_type": "stream",
     "text": [
      "Welcome\n"
     ]
    }
   ],
   "source": [
    "# and \n",
    "# or \n",
    "# not are used for changing booleans\n",
    "\n",
    "# not false\n",
    "if not logged_in:\n",
    "    print('Please Log in')\n",
    "else:\n",
    "    print('Welcome')"
   ]
  },
  {
   "cell_type": "code",
   "execution_count": 31,
   "metadata": {},
   "outputs": [
    {
     "name": "stdout",
     "output_type": "stream",
     "text": [
      "True\n",
      "False\n",
      "4364792072 4364792072\n",
      "True\n"
     ]
    }
   ],
   "source": [
    "a = [1,2,3]\n",
    "b = [1,2,3]\n",
    "\n",
    "print (a == b)\n",
    "\n",
    "# it would return false as these are two different objects in memory and we can print out these locations with this \n",
    "# built-in ID, 'is' operator is to check if these IDs are the same\n",
    "print (a is b)\n",
    "\n",
    "b = a\n",
    "print (id(a), id(b))\n",
    "# right now they are same object in memory\n",
    "print (a is b)"
   ]
  },
  {
   "cell_type": "markdown",
   "metadata": {},
   "source": [
    "False Values:\n",
    "    # False\n",
    "    # None\n",
    "    # Zero of any numeric type\n",
    "    # Any empty sequence. For example, '', (), [].\n",
    "    # Any empty mapping. For example, {}."
   ]
  },
  {
   "cell_type": "code",
   "execution_count": 36,
   "metadata": {},
   "outputs": [
    {
     "name": "stdout",
     "output_type": "stream",
     "text": [
      "Evaluated to False\n",
      "Evaluated to False\n",
      "Evaluated to False\n",
      "Evaluated to False\n",
      "Evaluated to False\n",
      "Evaluated to False\n",
      "Evaluated to False\n"
     ]
    }
   ],
   "source": [
    "# This can be useful when we create a function that is supposed to return some value \n",
    "# if is needed to check if those values are actually there \n",
    "# we can pass in an empty sequence to check it\n",
    "\n",
    "condition_list = [False, None, 0, '',(), [],{}]\n",
    "\n",
    "for i in condition_list:\n",
    "    if condition:\n",
    "        print ('Evaluated to True')\n",
    "    else:\n",
    "        print ('Evaluated to False')"
   ]
  },
  {
   "cell_type": "markdown",
   "metadata": {},
   "source": [
    "#### Loops and Iterations"
   ]
  },
  {
   "cell_type": "code",
   "execution_count": 39,
   "metadata": {},
   "outputs": [
    {
     "name": "stdout",
     "output_type": "stream",
     "text": [
      "1\n",
      "2\n",
      "Found!\n",
      "1\n",
      "2\n",
      "Found!\n",
      "4\n",
      "5\n"
     ]
    }
   ],
   "source": [
    "nums = [1, 2, 3, 4, 5]\n",
    "\n",
    "# The break statement breaks the loop\n",
    "for num in nums:\n",
    "    if num == 3:\n",
    "        print('Found!')\n",
    "        break\n",
    "    print(num)\n",
    "\n",
    "for num in nums:\n",
    "    if num == 3:\n",
    "        print('Found!')\n",
    "        continue\n",
    "    print(num)"
   ]
  },
  {
   "cell_type": "code",
   "execution_count": 40,
   "metadata": {},
   "outputs": [
    {
     "name": "stdout",
     "output_type": "stream",
     "text": [
      "1 a\n",
      "1 b\n",
      "1 c\n",
      "2 a\n",
      "2 b\n",
      "2 c\n",
      "3 a\n",
      "3 b\n",
      "3 c\n",
      "4 a\n",
      "4 b\n",
      "4 c\n",
      "5 a\n",
      "5 b\n",
      "5 c\n"
     ]
    }
   ],
   "source": [
    "# nested loop\n",
    "# What happened was for the first one it would loop through/ over the string and it would go to the next one\n",
    "# it would give us every combination of those numbers and characters\n",
    "for num in nums:\n",
    "    for letter in 'abc':\n",
    "        print (num, letter)"
   ]
  },
  {
   "cell_type": "code",
   "execution_count": 42,
   "metadata": {},
   "outputs": [
    {
     "name": "stdout",
     "output_type": "stream",
     "text": [
      "1\n",
      "2\n",
      "3\n",
      "4\n",
      "5\n",
      "6\n",
      "7\n",
      "8\n",
      "9\n",
      "10\n"
     ]
    }
   ],
   "source": [
    "for i in range(1, 11):\n",
    "    print (i)"
   ]
  },
  {
   "cell_type": "code",
   "execution_count": null,
   "metadata": {},
   "outputs": [],
   "source": [
    "# while loop will just keep going until a certain condition is met\n",
    "# we need to set a condition to break out off the loop otherwise it would get stuck in this infinite loop\n",
    "# just keep incrementing x by 1\n",
    "\n",
    "x = 0\n",
    "\n",
    "while x < 10:\n",
    "    print(x)\n",
    "    x += 1"
   ]
  },
  {
   "cell_type": "markdown",
   "metadata": {},
   "source": [
    "#### Function "
   ]
  },
  {
   "cell_type": "code",
   "execution_count": 50,
   "metadata": {},
   "outputs": [
    {
     "name": "stdout",
     "output_type": "stream",
     "text": [
      "Hi Hank Function.\n"
     ]
    }
   ],
   "source": [
    "def hello_func(greeting, name = 'You'):\n",
    "    return '{} {} Function.'.format(greeting ,name)\n",
    "\n",
    "print (hello_func('Hi','Hank'))"
   ]
  },
  {
   "cell_type": "code",
   "execution_count": 51,
   "metadata": {},
   "outputs": [
    {
     "name": "stdout",
     "output_type": "stream",
     "text": [
      "('Math', 'Art')\n",
      "{'name': 'Hank', 'age': 26}\n"
     ]
    }
   ],
   "source": [
    "# we don't know how many positional or keyword arguments that will be\n",
    "# *args is for positional argument and **kwarges is for keyword argument\n",
    "def student_info(*args, **kwarges):\n",
    "    print (args)\n",
    "    print (kwarges)\n",
    "    \n",
    "\n",
    "student_info('Math', \"Art\", name='Hank', age=26)"
   ]
  },
  {
   "cell_type": "code",
   "execution_count": 53,
   "metadata": {},
   "outputs": [
    {
     "name": "stdout",
     "output_type": "stream",
     "text": [
      "(['Math', 'Art'], {'name': 'Hank', 'age': 26})\n",
      "{}\n",
      "('Math', 'Art')\n",
      "{'name': 'Hank', 'age': 26}\n"
     ]
    }
   ],
   "source": [
    "# if we use * and ** in parameters of the function it will actually unpack a sequence or dictionary\n",
    "course = ['Math', 'Art']\n",
    "info = {'name': 'Hank', 'age': 26}\n",
    "\n",
    "student_info(course, info)\n",
    "# add * before the argument if would unpack the values\n",
    "student_info(*course, **info)"
   ]
  },
  {
   "cell_type": "markdown",
   "metadata": {},
   "source": [
    "Number of days per month. First value placeholder for indexing purposes.<br/>\n",
    "month_days = [0, 31, 28, 31, 30, 31, 30, 31, 31, 30, 31, 30, 31]"
   ]
  },
  {
   "cell_type": "code",
   "execution_count": 63,
   "metadata": {},
   "outputs": [],
   "source": [
    "def is_leap(year):\n",
    "    \"\"\"Return True for leap years, False for non-leap years.\"\"\"\n",
    "\n",
    "    return year % 4 == 0 and (year % 100 != 0 or year % 400 == 0)"
   ]
  },
  {
   "cell_type": "code",
   "execution_count": 64,
   "metadata": {},
   "outputs": [
    {
     "name": "stdout",
     "output_type": "stream",
     "text": [
      "True\n"
     ]
    }
   ],
   "source": [
    "print (is_leap(2020))"
   ]
  },
  {
   "cell_type": "code",
   "execution_count": 67,
   "metadata": {},
   "outputs": [],
   "source": [
    "month_days = [0, 31, 28, 31, 30, 31, 30, 31, 31, 30, 31, 30, 31]\n",
    "def days_in_month(year, month):\n",
    "    \"\"\"Return number of days in that month in that year.\"\"\"\n",
    "\n",
    "    if not 1 <= month <= 12:\n",
    "        return 'Invalid Month'\n",
    "\n",
    "    if month == 2 and is_leap(year):\n",
    "        return 29\n",
    "\n",
    "    return month_days[month]"
   ]
  },
  {
   "cell_type": "code",
   "execution_count": 68,
   "metadata": {},
   "outputs": [
    {
     "name": "stdout",
     "output_type": "stream",
     "text": [
      "28\n"
     ]
    }
   ],
   "source": [
    "print (days_in_month(2017, 2))"
   ]
  },
  {
   "cell_type": "code",
   "execution_count": null,
   "metadata": {},
   "outputs": [],
   "source": [
    "print (days)"
   ]
  },
  {
   "cell_type": "code",
   "execution_count": null,
   "metadata": {},
   "outputs": [],
   "source": []
  },
  {
   "cell_type": "code",
   "execution_count": null,
   "metadata": {},
   "outputs": [],
   "source": []
  },
  {
   "cell_type": "code",
   "execution_count": null,
   "metadata": {},
   "outputs": [],
   "source": []
  },
  {
   "cell_type": "code",
   "execution_count": null,
   "metadata": {},
   "outputs": [],
   "source": []
  }
 ],
 "metadata": {
  "kernelspec": {
   "display_name": "Python 3",
   "language": "python",
   "name": "python3"
  },
  "language_info": {
   "codemirror_mode": {
    "name": "ipython",
    "version": 3
   },
   "file_extension": ".py",
   "mimetype": "text/x-python",
   "name": "python",
   "nbconvert_exporter": "python",
   "pygments_lexer": "ipython3",
   "version": "3.6.5"
  }
 },
 "nbformat": 4,
 "nbformat_minor": 2
}
